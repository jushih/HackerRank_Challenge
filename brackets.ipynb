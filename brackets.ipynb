{
 "cells": [
  {
   "cell_type": "markdown",
   "metadata": {},
   "source": [
    "## Original Submission"
   ]
  },
  {
   "cell_type": "code",
   "execution_count": null,
   "metadata": {},
   "outputs": [],
   "source": [
    "import re\n",
    "\n",
    "\n",
    "#checks if palindrome\n",
    "def reverse(s): \n",
    "    return s[::-1] \n",
    "\n",
    "s = str(input())\n",
    "\n",
    "result = re.sub(r'[^(){}\\[\\]]', '',s)\n",
    "\n",
    "palindrome = reverse(result) \n",
    "\n",
    "# using palindrome to check closed brackets fails in cases where they aren't in palindrome format e.g., ()(()), I'll come back to address this test case on my github\n",
    "print(palindrome)\n",
    "\n",
    "if palindrome == result:\n",
    "    check = 'Y'\n",
    "else:\n",
    "    check = 'N'\n",
    "\n",
    "print(check, result)"
   ]
  },
  {
   "cell_type": "markdown",
   "metadata": {},
   "source": [
    "## Refactored\n",
    "\n",
    "My original submission did not have the right solution. I implement a new method to check for balanced brackets by making sure each one is opened and closed in the order that they are opened. If there is not a corresponding close bracket for an opened bracket, the bracket isn't balanced."
   ]
  },
  {
   "cell_type": "code",
   "execution_count": null,
   "metadata": {},
   "outputs": [],
   "source": [
    "##!/usr/bin/env python3\n",
    "import re\n",
    "import argparse\n",
    "\n",
    "def parse_args():\n",
    "    ap = argparse.ArgumentParser(description='Accepts input and checks if brackets are closed',\n",
    "                                 formatter_class=argparse.ArgumentDefaultsHelpFormatter)\n",
    "    ap.add_argument( 'input', help='Arithmetic input')\n",
    "    \n",
    "    return ap.parse_args()\n",
    "\n",
    "ARGS = parse_args()\n",
    "\n",
    "s = ARGS.input\n",
    "\n",
    "\n",
    "result = re.sub(r'[^(){}\\[\\]]', '',s)\n",
    "\n",
    "openers = ['(','[','{']\n",
    "pairs = {'}' : '(', ']' : '[','}':'{'}\n",
    "\n",
    "def locate_pair(bracket):\n",
    "    for i in len(pairs):\n",
    "        print(i)\n",
    "\n",
    "stack = []\n",
    "\n",
    "for bracket in result:\n",
    "    if len(stack) == 0:\n",
    "        stack.append(bracket)\n",
    "    else:\n",
    "        if bracket in openers:\n",
    "            stack.append(bracket)\n",
    "        #if it's a closing bracket, check whether it closes the last item in the stack\n",
    "        else: \n",
    "            if pairs.get(bracket) == stack[-1]:\n",
    "                stack.pop()\n",
    "\n",
    "                \n",
    "if len(stack) == 0:\n",
    "    check = 'Y'\n",
    "else:\n",
    "    check = 'N'\n",
    "    \n",
    "print(check, result)"
   ]
  },
  {
   "cell_type": "code",
   "execution_count": null,
   "metadata": {},
   "outputs": [],
   "source": []
  }
 ],
 "metadata": {
  "kernelspec": {
   "display_name": "Python 3",
   "language": "python",
   "name": "python3"
  },
  "language_info": {
   "codemirror_mode": {
    "name": "ipython",
    "version": 3
   },
   "file_extension": ".py",
   "mimetype": "text/x-python",
   "name": "python",
   "nbconvert_exporter": "python",
   "pygments_lexer": "ipython3",
   "version": "3.6.1"
  }
 },
 "nbformat": 4,
 "nbformat_minor": 2
}
