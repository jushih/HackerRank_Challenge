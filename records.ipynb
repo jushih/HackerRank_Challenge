{
 "cells": [
  {
   "cell_type": "markdown",
   "metadata": {},
   "source": [
    "## Original Submission"
   ]
  },
  {
   "cell_type": "code",
   "execution_count": 1,
   "metadata": {},
   "outputs": [
    {
     "name": "stdout",
     "output_type": "stream",
     "text": [
      "COM B rit2011020 Samantha\n",
      "DSA A rit2011001 Julia\n",
      "DSA A rit2011020 Samantha\n"
     ]
    }
   ],
   "source": [
    "import json\n",
    "import pandas as pd\n",
    "from pandas import DataFrame \n",
    "\n",
    "#load the json file\n",
    "#input_file = input()\n",
    "#data = json.loads(input_file)\n",
    "\n",
    "with open('records.json') as json_data:\n",
    "    data = json.load(json_data)\n",
    "\n",
    "records = []\n",
    "    \n",
    "for record in data['report']:\n",
    "    name = record['name']\n",
    "    enroll = record['enrollment']\n",
    "        \n",
    "    for fields in record['subject']:\n",
    "        code = fields['code']\n",
    "        grade = fields['grade']\n",
    "        \n",
    "        if grade != 'F':\n",
    "            records.append([\n",
    "            code,\n",
    "            grade,\n",
    "            enroll,\n",
    "            name\n",
    "            ])\n",
    "\n",
    "#create dataframe of passing student records and sort accordingly\n",
    "df = DataFrame.from_records(records,columns=['codes','grades','enroll','name'])\n",
    "df = df.sort_values(by=['codes', 'grades','enroll','name'])\n",
    "\n",
    "#iterate over df and print values \n",
    "for index, row in df.iterrows():\n",
    "    print(row['codes'], row['grades'], row['enroll'], row['name'])\n"
   ]
  },
  {
   "cell_type": "markdown",
   "metadata": {},
   "source": [
    "## Refactored"
   ]
  },
  {
   "cell_type": "code",
   "execution_count": null,
   "metadata": {},
   "outputs": [],
   "source": [
    "##!/usr/bin/env python3\n",
    "import json\n",
    "import pandas as pd\n",
    "from pandas import DataFrame \n",
    "import argparse\n",
    "\n",
    "def parse_args():\n",
    "    ap = argparse.ArgumentParser(description='Accepts JSON file of student records and returns passing students',\n",
    "                                 formatter_class=argparse.ArgumentDefaultsHelpFormatter)\n",
    "    ap.add_argument( 'json_file', help='Student records in JSON format')\n",
    "    \n",
    "    return ap.parse_args()\n",
    "\n",
    "ARGS = parse_args()\n",
    "\n",
    "\n",
    "with open(ARGS.json_file) as json_data:\n",
    "    data = json.load(json_data)\n",
    "    \n",
    "records = []\n",
    "\n",
    "for record in data['report']:\n",
    "    name = record['name']\n",
    "    enroll = record['enrollment']\n",
    "        \n",
    "    for fields in record['subject']:\n",
    "        code = fields['code']\n",
    "        grade = fields['grade']\n",
    "        \n",
    "        if grade != 'F':\n",
    "            records.append([\n",
    "            code,\n",
    "            grade,\n",
    "            enroll,\n",
    "            name\n",
    "            ])\n",
    "\n",
    "#create dataframe of passing student records and sort accordingly\n",
    "df = DataFrame.from_records(records,columns=['codes','grades','enroll','name'])\n",
    "df = df.sort_values(by=['codes', 'grades','enroll','name'])\n",
    "\n",
    "#iterate over df and print values \n",
    "for index, row in df.iterrows():\n",
    "    print(row['codes'], row['grades'], row['enroll'], row['name'])"
   ]
  }
 ],
 "metadata": {
  "kernelspec": {
   "display_name": "Python 3",
   "language": "python",
   "name": "python3"
  },
  "language_info": {
   "codemirror_mode": {
    "name": "ipython",
    "version": 3
   },
   "file_extension": ".py",
   "mimetype": "text/x-python",
   "name": "python",
   "nbconvert_exporter": "python",
   "pygments_lexer": "ipython3",
   "version": "3.6.1"
  }
 },
 "nbformat": 4,
 "nbformat_minor": 2
}
